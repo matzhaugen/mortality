{
 "cells": [
  {
   "cell_type": "code",
   "execution_count": null,
   "id": "6f623978",
   "metadata": {},
   "outputs": [],
   "source": [
    "import urllib.request\n",
    "import pandas as pd"
   ]
  },
  {
   "cell_type": "code",
   "execution_count": null,
   "id": "6cdefb3d",
   "metadata": {},
   "outputs": [],
   "source": [
    "# The following script downloads the data (The data is also stored in /data/satellite_data.csv)\n",
    "urls = [f\"https://www.n2yo.com/browse/?y=2022&m={month}\" for month in [1]]\n",
    "urls += [f\"https://www.n2yo.com/browse/?y=2021&m={month}\" for month in range(1, 13)]\n",
    "urls += [f\"https://www.n2yo.com/browse/?y=2020&m={month}\" for month in range(1, 13)]\n",
    "urls += [f\"https://www.n2yo.com/browse/?y=2019&m={month}\" for month in range(1, 13)]\n",
    "month_dfs = []\n",
    "for url in urls:\n",
    "    print(f\"reading {url}\")\n",
    "    tables = pd.read_html(url)\n",
    "    month_dfs.append(tables[2])\n",
    "    \n",
    "df = pd.concat(month_dfs)"
   ]
  },
  {
   "cell_type": "code",
   "execution_count": null,
   "id": "dc10a3c2",
   "metadata": {},
   "outputs": [],
   "source": [
    "df.to_csv(\"../data/satellite_data.csv\", index=False)"
   ]
  },
  {
   "cell_type": "code",
   "execution_count": null,
   "id": "651f8be8",
   "metadata": {},
   "outputs": [],
   "source": [
    "df.head()"
   ]
  },
  {
   "cell_type": "code",
   "execution_count": null,
   "id": "6dd53020",
   "metadata": {},
   "outputs": [],
   "source": []
  }
 ],
 "metadata": {
  "kernelspec": {
   "display_name": "Python 3",
   "language": "python",
   "name": "python3"
  },
  "language_info": {
   "codemirror_mode": {
    "name": "ipython",
    "version": 3
   },
   "file_extension": ".py",
   "mimetype": "text/x-python",
   "name": "python",
   "nbconvert_exporter": "python",
   "pygments_lexer": "ipython3",
   "version": "3.9.4"
  }
 },
 "nbformat": 4,
 "nbformat_minor": 5
}
