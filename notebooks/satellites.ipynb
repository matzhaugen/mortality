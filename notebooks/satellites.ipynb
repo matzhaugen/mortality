{
 "cells": [
  {
   "cell_type": "code",
   "execution_count": 75,
   "id": "161a67c5",
   "metadata": {},
   "outputs": [],
   "source": [
    "import urllib.request\n",
    "import pandas as pd"
   ]
  },
  {
   "cell_type": "code",
   "execution_count": 143,
   "id": "7375c635",
   "metadata": {},
   "outputs": [
    {
     "data": {
      "text/html": [
       "<div>\n",
       "<style scoped>\n",
       "    .dataframe tbody tr th:only-of-type {\n",
       "        vertical-align: middle;\n",
       "    }\n",
       "\n",
       "    .dataframe tbody tr th {\n",
       "        vertical-align: top;\n",
       "    }\n",
       "\n",
       "    .dataframe thead th {\n",
       "        text-align: right;\n",
       "    }\n",
       "</style>\n",
       "<table border=\"1\" class=\"dataframe\">\n",
       "  <thead>\n",
       "    <tr style=\"text-align: right;\">\n",
       "      <th></th>\n",
       "      <th>Name</th>\n",
       "      <th>Launch date (YYYY-MM-DD)</th>\n",
       "      <th>Status</th>\n",
       "      <th>Action</th>\n",
       "    </tr>\n",
       "  </thead>\n",
       "  <tbody>\n",
       "    <tr>\n",
       "      <th>0</th>\n",
       "      <td>STARLINK-3321</td>\n",
       "      <td>2022-01-06</td>\n",
       "      <td>IN ORBIT</td>\n",
       "      <td>TRACK IT</td>\n",
       "    </tr>\n",
       "    <tr>\n",
       "      <th>1</th>\n",
       "      <td>STARLINK-3323</td>\n",
       "      <td>2022-01-06</td>\n",
       "      <td>IN ORBIT</td>\n",
       "      <td>TRACK IT</td>\n",
       "    </tr>\n",
       "    <tr>\n",
       "      <th>2</th>\n",
       "      <td>STARLINK-3333</td>\n",
       "      <td>2022-01-06</td>\n",
       "      <td>IN ORBIT</td>\n",
       "      <td>TRACK IT</td>\n",
       "    </tr>\n",
       "    <tr>\n",
       "      <th>3</th>\n",
       "      <td>STARLINK-3335</td>\n",
       "      <td>2022-01-06</td>\n",
       "      <td>IN ORBIT</td>\n",
       "      <td>TRACK IT</td>\n",
       "    </tr>\n",
       "    <tr>\n",
       "      <th>4</th>\n",
       "      <td>STARLINK-3353</td>\n",
       "      <td>2022-01-06</td>\n",
       "      <td>IN ORBIT</td>\n",
       "      <td>TRACK IT</td>\n",
       "    </tr>\n",
       "  </tbody>\n",
       "</table>\n",
       "</div>"
      ],
      "text/plain": [
       "            Name Launch date (YYYY-MM-DD)    Status    Action\n",
       "0  STARLINK-3321               2022-01-06  IN ORBIT  TRACK IT\n",
       "1  STARLINK-3323               2022-01-06  IN ORBIT  TRACK IT\n",
       "2  STARLINK-3333               2022-01-06  IN ORBIT  TRACK IT\n",
       "3  STARLINK-3335               2022-01-06  IN ORBIT  TRACK IT\n",
       "4  STARLINK-3353               2022-01-06  IN ORBIT  TRACK IT"
      ]
     },
     "execution_count": 143,
     "metadata": {},
     "output_type": "execute_result"
    }
   ],
   "source": [
    "# Read data\n",
    "df = pd.read_csv(\"../data/satellite_data.csv\")\n",
    "df.head()"
   ]
  },
  {
   "cell_type": "code",
   "execution_count": 144,
   "id": "a482fb0b",
   "metadata": {},
   "outputs": [],
   "source": [
    "# Handle dates properly\n",
    "df.iloc[:, 1] = pd.to_datetime(df.iloc[:, 1])\n",
    "df.columns = ['Name', 'launch_date', 'Status', 'Action']\n",
    "df.index = df.launch_date"
   ]
  },
  {
   "cell_type": "code",
   "execution_count": 145,
   "id": "436c949d",
   "metadata": {},
   "outputs": [
    {
     "name": "stdout",
     "output_type": "stream",
     "text": [
      "                    Name launch_date    Status    Action\n",
      "launch_date                                             \n",
      "2019-01-11   IRIDIUM 180  2019-01-11  IN ORBIT  TRACK IT\n",
      "2019-01-11   IRIDIUM 176  2019-01-11  IN ORBIT  TRACK IT\n",
      "2019-01-11   IRIDIUM 168  2019-01-11  IN ORBIT  TRACK IT\n",
      "2019-01-11   IRIDIUM 173  2019-01-11  IN ORBIT  TRACK IT\n",
      "2019-01-11   IRIDIUM 169  2019-01-11  IN ORBIT  TRACK IT\n"
     ]
    },
    {
     "data": {
      "text/html": [
       "<div>\n",
       "<style scoped>\n",
       "    .dataframe tbody tr th:only-of-type {\n",
       "        vertical-align: middle;\n",
       "    }\n",
       "\n",
       "    .dataframe tbody tr th {\n",
       "        vertical-align: top;\n",
       "    }\n",
       "\n",
       "    .dataframe thead th {\n",
       "        text-align: right;\n",
       "    }\n",
       "</style>\n",
       "<table border=\"1\" class=\"dataframe\">\n",
       "  <thead>\n",
       "    <tr style=\"text-align: right;\">\n",
       "      <th></th>\n",
       "      <th>launch_date</th>\n",
       "      <th>Name</th>\n",
       "    </tr>\n",
       "  </thead>\n",
       "  <tbody>\n",
       "    <tr>\n",
       "      <th>0</th>\n",
       "      <td>2019-01-14</td>\n",
       "      <td>5</td>\n",
       "    </tr>\n",
       "  </tbody>\n",
       "</table>\n",
       "</div>"
      ],
      "text/plain": [
       "  launch_date  Name\n",
       "0  2019-01-14     5"
      ]
     },
     "execution_count": 145,
     "metadata": {},
     "output_type": "execute_result"
    }
   ],
   "source": [
    "# Make a note that the indexing happends at the end of each week as seen below\n",
    "test = df[df[\"Name\"].str.contains(\"IRIDIUM\")].head()\n",
    "print(test)\n",
    "test.groupby([pd.Grouper(key='launch_date', freq='W-MON')])[\"Name\"].count().reset_index()"
   ]
  },
  {
   "cell_type": "code",
   "execution_count": 104,
   "id": "5a4ecba8",
   "metadata": {},
   "outputs": [],
   "source": [
    "# Get weekly summation of launches\n",
    "def get_weekly(df, regex, negate=False):\n",
    "    if negate:\n",
    "        subset = df[~(df[\"Name\"].str.contains(regex).values)]\n",
    "    else:\n",
    "        subset = df[(df[\"Name\"].str.contains(regex).values)]\n",
    "    subset = subset[subset[\"Status\"] != \"DECAYED\"]\n",
    "    weekly = subset.groupby([pd.Grouper(key='launch_date', freq='W-MON')])[\"Name\"].count().reset_index()\n",
    "    weekly.columns = [\"launch_date\", \"count\"]\n",
    "    weekly[\"cumsum\"] = weekly[\"count\"].cumsum()\n",
    "    weekly.index = weekly.launch_date\n",
    "    return weekly"
   ]
  },
  {
   "cell_type": "code",
   "execution_count": 149,
   "id": "c7a37119",
   "metadata": {},
   "outputs": [
    {
     "data": {
      "text/html": [
       "<div>\n",
       "<style scoped>\n",
       "    .dataframe tbody tr th:only-of-type {\n",
       "        vertical-align: middle;\n",
       "    }\n",
       "\n",
       "    .dataframe tbody tr th {\n",
       "        vertical-align: top;\n",
       "    }\n",
       "\n",
       "    .dataframe thead th {\n",
       "        text-align: right;\n",
       "    }\n",
       "</style>\n",
       "<table border=\"1\" class=\"dataframe\">\n",
       "  <thead>\n",
       "    <tr style=\"text-align: right;\">\n",
       "      <th></th>\n",
       "      <th>launch_date</th>\n",
       "      <th>count</th>\n",
       "      <th>cumsum</th>\n",
       "    </tr>\n",
       "    <tr>\n",
       "      <th>launch_date</th>\n",
       "      <th></th>\n",
       "      <th></th>\n",
       "      <th></th>\n",
       "    </tr>\n",
       "  </thead>\n",
       "  <tbody>\n",
       "    <tr>\n",
       "      <th>2019-01-14</th>\n",
       "      <td>2019-01-14</td>\n",
       "      <td>11</td>\n",
       "      <td>11</td>\n",
       "    </tr>\n",
       "    <tr>\n",
       "      <th>2019-01-21</th>\n",
       "      <td>2019-01-21</td>\n",
       "      <td>13</td>\n",
       "      <td>24</td>\n",
       "    </tr>\n",
       "    <tr>\n",
       "      <th>2019-01-28</th>\n",
       "      <td>2019-01-28</td>\n",
       "      <td>2</td>\n",
       "      <td>26</td>\n",
       "    </tr>\n",
       "    <tr>\n",
       "      <th>2019-02-04</th>\n",
       "      <td>2019-02-04</td>\n",
       "      <td>0</td>\n",
       "      <td>26</td>\n",
       "    </tr>\n",
       "    <tr>\n",
       "      <th>2019-02-11</th>\n",
       "      <td>2019-02-11</td>\n",
       "      <td>4</td>\n",
       "      <td>30</td>\n",
       "    </tr>\n",
       "  </tbody>\n",
       "</table>\n",
       "</div>"
      ],
      "text/plain": [
       "            launch_date  count  cumsum\n",
       "launch_date                           \n",
       "2019-01-14   2019-01-14     11      11\n",
       "2019-01-21   2019-01-21     13      24\n",
       "2019-01-28   2019-01-28      2      26\n",
       "2019-02-04   2019-02-04      0      26\n",
       "2019-02-11   2019-02-11      4      30"
      ]
     },
     "execution_count": 149,
     "metadata": {},
     "output_type": "execute_result"
    }
   ],
   "source": [
    "starlink = get_weekly(df, \"STARLINK\")\n",
    "oneweb = get_weekly(df, \"ONEWEB\")\n",
    "neither = get_weekly(df, \"STARLINK|ONEWEB\", negate=True)\n",
    "neither.head(5)"
   ]
  },
  {
   "cell_type": "code",
   "execution_count": 153,
   "id": "6de253a4",
   "metadata": {},
   "outputs": [
    {
     "data": {
      "text/plain": [
       "<matplotlib.legend.Legend at 0x111507400>"
      ]
     },
     "execution_count": 153,
     "metadata": {},
     "output_type": "execute_result"
    },
    {
     "data": {
      "image/png": "[encoded data removed]",
      "text/plain": [
       "<Figure size 576x432 with 1 Axes>"
      ]
     },
     "metadata": {},
     "output_type": "display_data"
    }
   ],
   "source": [
    "import matplotlib.pyplot as plt\n",
    "\n",
    "plt.style.use('ggplot')\n",
    "starlink[\"cumsum\"].plot(figsize=(8,6), label=\"Starlink\") \n",
    "oneweb[\"cumsum\"].plot(label=\"Oneweb\") \n",
    "neither[\"cumsum\"].plot(label=\"Everything else\") \n",
    "plt.ylabel(\"# Satellites (cumulative)\", fontsize=20)\n",
    "plt.xlabel(\"Launch date\", fontsize=20)\n",
    "plt.legend()"
   ]
  },
  {
   "cell_type": "code",
   "execution_count": null,
   "id": "5a2a5588",
   "metadata": {},
   "outputs": [],
   "source": [
    "\"../data/state_centered.csv\""
   ]
  }
 ],
 "metadata": {
  "kernelspec": {
   "display_name": "Python 3",
   "language": "python",
   "name": "python3"
  },
  "language_info": {
   "codemirror_mode": {
    "name": "ipython",
    "version": 3
   },
   "file_extension": ".py",
   "mimetype": "text/x-python",
   "name": "python",
   "nbconvert_exporter": "python",
   "pygments_lexer": "ipython3",
   "version": "3.9.4"
  }
 },
 "nbformat": 4,
 "nbformat_minor": 5
}
